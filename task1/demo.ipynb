{
 "cells": [
  {
   "cell_type": "markdown",
   "metadata": {},
   "source": [
    "## **Demo Notebook for NER Model**\n",
    "\n",
    "This Jupyter Notebook demonstrates how to perform inference using our fine-tuned\n",
    "BERT-based model for Named Entity Recognition (NER). We'll:\n",
    "\n",
    "1. Load the tokenizer and model from a specified directory (where we saved our fine-tuned weights).\n",
    "2. Create an NER pipeline from Hugging Face Transformers.\n",
    "3. Run inference on sample sentences to detect mountain names.\n",
    "4. Print or visualize the results.\n"
   ]
  },
  {
   "cell_type": "code",
   "execution_count": 1,
   "metadata": {},
   "outputs": [
    {
     "name": "stderr",
     "output_type": "stream",
     "text": [
      "e:\\test_task\\NLP\\.venv\\Lib\\site-packages\\tqdm\\auto.py:21: TqdmWarning: IProgress not found. Please update jupyter and ipywidgets. See https://ipywidgets.readthedocs.io/en/stable/user_install.html\n",
      "  from .autonotebook import tqdm as notebook_tqdm\n"
     ]
    }
   ],
   "source": [
    "import os\n",
    "from transformers import AutoTokenizer, AutoModelForTokenClassification, pipeline\n",
    "import torch\n",
    "import numpy as np\n",
    "import pandas as pd\n"
   ]
  },
  {
   "cell_type": "markdown",
   "metadata": {},
   "source": [
    "## 1. Load the Fine-Tuned Model\n",
    "\n",
    "We assume you have a folder named `bert_mountain_ner` (or something similar) which contains:\n",
    "- pytorch_model.bin\n",
    "- config.json\n",
    "- tokenizer.json\n",
    "- other relevant files\n",
    "\n",
    "These were generated after you fine-tuned the BERT model on the \"mountain\" NER task.\n"
   ]
  },
  {
   "cell_type": "code",
   "execution_count": 2,
   "metadata": {},
   "outputs": [
    {
     "name": "stderr",
     "output_type": "stream",
     "text": [
      "Device set to use cpu\n"
     ]
    },
    {
     "name": "stdout",
     "output_type": "stream",
     "text": [
      "Model and tokenizer loaded successfully.\n"
     ]
    }
   ],
   "source": [
    "MODEL_DIR = \"./bert_mountain_ner\"\n",
    "\n",
    "tokenizer = AutoTokenizer.from_pretrained(MODEL_DIR)\n",
    "model = AutoModelForTokenClassification.from_pretrained(MODEL_DIR)\n",
    "\n",
    "ner_pipeline = pipeline(\n",
    "    \"token-classification\",\n",
    "    model=model,\n",
    "    tokenizer=tokenizer,\n",
    "    aggregation_strategy=\"simple\"\n",
    ")\n",
    "\n",
    "print(\"Model and tokenizer loaded successfully.\")\n"
   ]
  },
  {
   "cell_type": "markdown",
   "metadata": {},
   "source": [
    "## 2. Test Inference on Sample Sentences\n",
    "\n",
    "We'll provide several sentences containing mountain names. The `ner_pipeline` should detect them.\n"
   ]
  },
  {
   "cell_type": "code",
   "execution_count": 3,
   "metadata": {},
   "outputs": [
    {
     "name": "stdout",
     "output_type": "stream",
     "text": [
      "Input text: I recently visited Mount Everest, it's truly breathtaking!\n",
      "  -> Entity: Everest, Label: MOUNTAIN, Score: 0.4267\n",
      "\n",
      "Input text: K2 and Nanga Parbat are both on my bucket list.\n",
      "  No entities found.\n",
      "\n",
      "Input text: There's something magical about Annapurna in Nepal.\n",
      "  No entities found.\n",
      "\n"
     ]
    }
   ],
   "source": [
    "sample_texts = [\n",
    "    \"I recently visited Mount Everest, it's truly breathtaking!\",\n",
    "    \"K2 and Nanga Parbat are both on my bucket list.\",\n",
    "    \"There's something magical about Annapurna in Nepal.\"\n",
    "]\n",
    "\n",
    "for text in sample_texts:\n",
    "    print(f\"Input text: {text}\")\n",
    "    entities = ner_pipeline(text)\n",
    "    if not entities:\n",
    "        print(\"  No entities found.\")\n",
    "    else:\n",
    "        for ent in entities:\n",
    "            print(f\"  -> Entity: {ent['word']}, Label: {ent['entity_group']}, Score: {ent['score']:.4f}\")\n",
    "    print()\n"
   ]
  },
  {
   "cell_type": "markdown",
   "metadata": {},
   "source": [
    "## 3. (Optional) Visualizing or Further Processing the Results\n",
    "\n",
    "Below, you could add code to highlight mountain names in the text or store them in a DataFrame. This step is optional and depends on your needs.\n"
   ]
  },
  {
   "cell_type": "code",
   "execution_count": 4,
   "metadata": {},
   "outputs": [
    {
     "data": {
      "text/html": [
       "<div>\n",
       "<style scoped>\n",
       "    .dataframe tbody tr th:only-of-type {\n",
       "        vertical-align: middle;\n",
       "    }\n",
       "\n",
       "    .dataframe tbody tr th {\n",
       "        vertical-align: top;\n",
       "    }\n",
       "\n",
       "    .dataframe thead th {\n",
       "        text-align: right;\n",
       "    }\n",
       "</style>\n",
       "<table border=\"1\" class=\"dataframe\">\n",
       "  <thead>\n",
       "    <tr style=\"text-align: right;\">\n",
       "      <th></th>\n",
       "      <th>text</th>\n",
       "      <th>entity_text</th>\n",
       "      <th>label</th>\n",
       "      <th>score</th>\n",
       "      <th>start_char</th>\n",
       "      <th>end_char</th>\n",
       "    </tr>\n",
       "  </thead>\n",
       "  <tbody>\n",
       "    <tr>\n",
       "      <th>0</th>\n",
       "      <td>I recently visited Mount Everest, it's truly b...</td>\n",
       "      <td>Everest</td>\n",
       "      <td>MOUNTAIN</td>\n",
       "      <td>0.426712</td>\n",
       "      <td>25</td>\n",
       "      <td>32</td>\n",
       "    </tr>\n",
       "  </tbody>\n",
       "</table>\n",
       "</div>"
      ],
      "text/plain": [
       "                                                text entity_text     label  \\\n",
       "0  I recently visited Mount Everest, it's truly b...     Everest  MOUNTAIN   \n",
       "\n",
       "      score  start_char  end_char  \n",
       "0  0.426712          25        32  "
      ]
     },
     "execution_count": 4,
     "metadata": {},
     "output_type": "execute_result"
    }
   ],
   "source": [
    "import pandas as pd\n",
    "\n",
    "all_results = []\n",
    "for text in sample_texts:\n",
    "    entities = ner_pipeline(text)\n",
    "    for ent in entities:\n",
    "        all_results.append({\n",
    "            \"text\": text,\n",
    "            \"entity_text\": ent[\"word\"],\n",
    "            \"label\": ent[\"entity_group\"],\n",
    "            \"score\": ent[\"score\"],\n",
    "            \"start_char\": ent[\"start\"],\n",
    "            \"end_char\": ent[\"end\"],\n",
    "        })\n",
    "\n",
    "df_results = pd.DataFrame(all_results)\n",
    "df_results\n"
   ]
  },
  {
   "cell_type": "markdown",
   "metadata": {},
   "source": [
    "## 4. Conclusion\n",
    "\n",
    "- I've loaded a fine-tuned NER model for detecting mountain names.\n",
    "- I've run inference on several test sentences.\n",
    "\n",
    "This completes the demo for our NER pipeline.\n"
   ]
  }
 ],
 "metadata": {
  "kernelspec": {
   "display_name": ".venv",
   "language": "python",
   "name": "python3"
  },
  "language_info": {
   "codemirror_mode": {
    "name": "ipython",
    "version": 3
   },
   "file_extension": ".py",
   "mimetype": "text/x-python",
   "name": "python",
   "nbconvert_exporter": "python",
   "pygments_lexer": "ipython3",
   "version": "3.11.2"
  }
 },
 "nbformat": 4,
 "nbformat_minor": 2
}
